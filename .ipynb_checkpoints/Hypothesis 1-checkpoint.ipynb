{
 "cells": [
  {
   "cell_type": "markdown",
   "metadata": {},
   "source": [
    "# Question 1: We are looking to see if the mean prison population has changed over time, from 2012 to 2016."
   ]
  },
  {
   "cell_type": "markdown",
   "metadata": {},
   "source": [
    "## Step 1: Set up null and alternative hypotheses"
   ]
  },
  {
   "cell_type": "markdown",
   "metadata": {},
   "source": [
    "\n",
    "Ho: The mean prison population has not changed significantly from 2012 to 2016\n",
    "\n",
    "Ha: The mean prison population has significanlty changed from 2012 to 2016\n"
   ]
  },
  {
   "cell_type": "markdown",
   "metadata": {},
   "source": [
    "## Step 2: Choose a significance level"
   ]
  },
  {
   "cell_type": "code",
   "execution_count": 235,
   "metadata": {},
   "outputs": [],
   "source": [
    "alpha = 0.05"
   ]
  },
  {
   "cell_type": "markdown",
   "metadata": {},
   "source": [
    "## Step 3: Calculate the test statistic"
   ]
  },
  {
   "cell_type": "markdown",
   "metadata": {},
   "source": [
    "### Step 3.1: Import Necessary Libraries"
   ]
  },
  {
   "cell_type": "code",
   "execution_count": 215,
   "metadata": {},
   "outputs": [],
   "source": [
    "# Import Pandas Library\n",
    "import pandas as pd\n",
    "\n",
    "# Import Seaborn\n",
    "import seaborn as sns\n",
    "sns.set_style('whitegrid')\n",
    "\n",
    "# Import Stats\n",
    "from scipy import stats\n",
    "\n",
    "# Import Math\n",
    "import math\n",
    "\n",
    "# Import matplotlib\n",
    "import matplotlib.pyplot as plt\n",
    "%matplotlib inline\n",
    "\n",
    "# Import Numpy\n",
    "import numpy as np"
   ]
  },
  {
   "cell_type": "markdown",
   "metadata": {},
   "source": [
    "### Step 3.2: Load, clean and explore dataset"
   ]
  },
  {
   "cell_type": "code",
   "execution_count": 216,
   "metadata": {},
   "outputs": [
    {
     "data": {
      "text/html": [
       "<div>\n",
       "<style scoped>\n",
       "    .dataframe tbody tr th:only-of-type {\n",
       "        vertical-align: middle;\n",
       "    }\n",
       "\n",
       "    .dataframe tbody tr th {\n",
       "        vertical-align: top;\n",
       "    }\n",
       "\n",
       "    .dataframe thead th {\n",
       "        text-align: right;\n",
       "    }\n",
       "</style>\n",
       "<table border=\"1\" class=\"dataframe\">\n",
       "  <thead>\n",
       "    <tr style=\"text-align: right;\">\n",
       "      <th></th>\n",
       "      <th>jurisdiction</th>\n",
       "      <th>includes_jails</th>\n",
       "      <th>2001</th>\n",
       "      <th>2002</th>\n",
       "      <th>2003</th>\n",
       "      <th>2004</th>\n",
       "      <th>2005</th>\n",
       "      <th>2006</th>\n",
       "      <th>2007</th>\n",
       "      <th>2008</th>\n",
       "      <th>2009</th>\n",
       "      <th>2010</th>\n",
       "      <th>2011</th>\n",
       "      <th>2012</th>\n",
       "      <th>2013</th>\n",
       "      <th>2014</th>\n",
       "      <th>2015</th>\n",
       "      <th>2016</th>\n",
       "    </tr>\n",
       "  </thead>\n",
       "  <tbody>\n",
       "    <tr>\n",
       "      <th>0</th>\n",
       "      <td>Federal</td>\n",
       "      <td>0</td>\n",
       "      <td>149,852</td>\n",
       "      <td>158,216</td>\n",
       "      <td>168,144</td>\n",
       "      <td>177,600</td>\n",
       "      <td>186,364</td>\n",
       "      <td>190,844</td>\n",
       "      <td>197,285</td>\n",
       "      <td>198,414</td>\n",
       "      <td>205,087</td>\n",
       "      <td>206,968</td>\n",
       "      <td>214,774</td>\n",
       "      <td>216,915</td>\n",
       "      <td>214,989</td>\n",
       "      <td>209,561</td>\n",
       "      <td>195,622</td>\n",
       "      <td>188,311</td>\n",
       "    </tr>\n",
       "    <tr>\n",
       "      <th>1</th>\n",
       "      <td>Alabama</td>\n",
       "      <td>0</td>\n",
       "      <td>24,741</td>\n",
       "      <td>25,100</td>\n",
       "      <td>27,614</td>\n",
       "      <td>25,635</td>\n",
       "      <td>24,315</td>\n",
       "      <td>24,103</td>\n",
       "      <td>25,253</td>\n",
       "      <td>25,363</td>\n",
       "      <td>27,241</td>\n",
       "      <td>27,345</td>\n",
       "      <td>26,813</td>\n",
       "      <td>26,768</td>\n",
       "      <td>26,825</td>\n",
       "      <td>26,145</td>\n",
       "      <td>25,212</td>\n",
       "      <td>23,745</td>\n",
       "    </tr>\n",
       "    <tr>\n",
       "      <th>2</th>\n",
       "      <td>Alaska</td>\n",
       "      <td>1</td>\n",
       "      <td>4,570</td>\n",
       "      <td>4,351</td>\n",
       "      <td>4,472</td>\n",
       "      <td>4,534</td>\n",
       "      <td>4,798</td>\n",
       "      <td>5,052</td>\n",
       "      <td>5,151</td>\n",
       "      <td>4,997</td>\n",
       "      <td>5,472</td>\n",
       "      <td>5,369</td>\n",
       "      <td>6,216</td>\n",
       "      <td>6,308</td>\n",
       "      <td>5,081</td>\n",
       "      <td>6,323</td>\n",
       "      <td>5,247</td>\n",
       "      <td>4,378</td>\n",
       "    </tr>\n",
       "    <tr>\n",
       "      <th>3</th>\n",
       "      <td>Arizona</td>\n",
       "      <td>0</td>\n",
       "      <td>27,710</td>\n",
       "      <td>29,359</td>\n",
       "      <td>31,084</td>\n",
       "      <td>32,384</td>\n",
       "      <td>33,345</td>\n",
       "      <td>35,752</td>\n",
       "      <td>37,700</td>\n",
       "      <td>39,455</td>\n",
       "      <td>40,544</td>\n",
       "      <td>40,130</td>\n",
       "      <td>39,949</td>\n",
       "      <td>40,013</td>\n",
       "      <td>41,031</td>\n",
       "      <td>42,136</td>\n",
       "      <td>42,204</td>\n",
       "      <td>42,248</td>\n",
       "    </tr>\n",
       "    <tr>\n",
       "      <th>4</th>\n",
       "      <td>Arkansas</td>\n",
       "      <td>0</td>\n",
       "      <td>11,489</td>\n",
       "      <td>11,849</td>\n",
       "      <td>12,068</td>\n",
       "      <td>12,577</td>\n",
       "      <td>12,455</td>\n",
       "      <td>12,854</td>\n",
       "      <td>13,275</td>\n",
       "      <td>13,135</td>\n",
       "      <td>13,338</td>\n",
       "      <td>14,192</td>\n",
       "      <td>14,090</td>\n",
       "      <td>14,043</td>\n",
       "      <td>14,295</td>\n",
       "      <td>15,250</td>\n",
       "      <td>15,784</td>\n",
       "      <td>15,833</td>\n",
       "    </tr>\n",
       "  </tbody>\n",
       "</table>\n",
       "</div>"
      ],
      "text/plain": [
       "  jurisdiction  includes_jails     2001     2002     2003     2004     2005  \\\n",
       "0      Federal               0  149,852  158,216  168,144  177,600  186,364   \n",
       "1      Alabama               0   24,741   25,100   27,614   25,635   24,315   \n",
       "2       Alaska               1    4,570    4,351    4,472    4,534    4,798   \n",
       "3      Arizona               0   27,710   29,359   31,084   32,384   33,345   \n",
       "4     Arkansas               0   11,489   11,849   12,068   12,577   12,455   \n",
       "\n",
       "      2006     2007     2008     2009     2010     2011     2012     2013  \\\n",
       "0  190,844  197,285  198,414  205,087  206,968  214,774  216,915  214,989   \n",
       "1   24,103   25,253   25,363   27,241   27,345   26,813   26,768   26,825   \n",
       "2    5,052    5,151    4,997    5,472    5,369    6,216    6,308    5,081   \n",
       "3   35,752   37,700   39,455   40,544   40,130   39,949   40,013   41,031   \n",
       "4   12,854   13,275   13,135   13,338   14,192   14,090   14,043   14,295   \n",
       "\n",
       "      2014     2015     2016  \n",
       "0  209,561  195,622  188,311  \n",
       "1   26,145   25,212   23,745  \n",
       "2    6,323    5,247    4,378  \n",
       "3   42,136   42,204   42,248  \n",
       "4   15,250   15,784   15,833  "
      ]
     },
     "execution_count": 216,
     "metadata": {},
     "output_type": "execute_result"
    }
   ],
   "source": [
    "# Load in and preview first dataset, 'prison_custody_by_state.csv'\n",
    "# This data includes year-end prison custody totals by state as reported by the Bureau of \n",
    "# Justice Statistics' National Prisoner Statistics Program. Federal row reflects Bureau of Prison custody totals.\n",
    "\n",
    "df1 = pd.read_csv('prison_custody_by_state.csv')\n",
    "df1.head()"
   ]
  },
  {
   "cell_type": "code",
   "execution_count": 217,
   "metadata": {},
   "outputs": [
    {
     "data": {
      "text/plain": [
       "jurisdiction      object\n",
       "includes_jails     int64\n",
       "2001              object\n",
       "2002              object\n",
       "2003              object\n",
       "2004              object\n",
       "2005              object\n",
       "2006              object\n",
       "2007              object\n",
       "2008              object\n",
       "2009              object\n",
       "2010              object\n",
       "2011              object\n",
       "2012              object\n",
       "2013              object\n",
       "2014              object\n",
       "2015              object\n",
       "2016              object\n",
       "dtype: object"
      ]
     },
     "execution_count": 217,
     "metadata": {},
     "output_type": "execute_result"
    }
   ],
   "source": [
    "# Check out datatypes\n",
    "\n",
    "df1.dtypes"
   ]
  },
  {
   "cell_type": "code",
   "execution_count": 218,
   "metadata": {},
   "outputs": [
    {
     "data": {
      "text/html": [
       "<div>\n",
       "<style scoped>\n",
       "    .dataframe tbody tr th:only-of-type {\n",
       "        vertical-align: middle;\n",
       "    }\n",
       "\n",
       "    .dataframe tbody tr th {\n",
       "        vertical-align: top;\n",
       "    }\n",
       "\n",
       "    .dataframe thead th {\n",
       "        text-align: right;\n",
       "    }\n",
       "</style>\n",
       "<table border=\"1\" class=\"dataframe\">\n",
       "  <thead>\n",
       "    <tr style=\"text-align: right;\">\n",
       "      <th></th>\n",
       "      <th>jurisdiction</th>\n",
       "      <th>includes_jails</th>\n",
       "      <th>2001</th>\n",
       "      <th>2002</th>\n",
       "      <th>2003</th>\n",
       "      <th>2004</th>\n",
       "      <th>2005</th>\n",
       "      <th>2006</th>\n",
       "      <th>2007</th>\n",
       "      <th>2008</th>\n",
       "      <th>2009</th>\n",
       "      <th>2010</th>\n",
       "      <th>2011</th>\n",
       "      <th>2012</th>\n",
       "      <th>2013</th>\n",
       "      <th>2014</th>\n",
       "      <th>2015</th>\n",
       "      <th>2016</th>\n",
       "    </tr>\n",
       "  </thead>\n",
       "  <tbody>\n",
       "    <tr>\n",
       "      <th>0</th>\n",
       "      <td>Federal</td>\n",
       "      <td>0</td>\n",
       "      <td>149852</td>\n",
       "      <td>158216</td>\n",
       "      <td>168144</td>\n",
       "      <td>177600</td>\n",
       "      <td>186364</td>\n",
       "      <td>190844</td>\n",
       "      <td>197285</td>\n",
       "      <td>198414</td>\n",
       "      <td>205087</td>\n",
       "      <td>206968</td>\n",
       "      <td>214774</td>\n",
       "      <td>216915</td>\n",
       "      <td>214989</td>\n",
       "      <td>209561</td>\n",
       "      <td>195622</td>\n",
       "      <td>188311</td>\n",
       "    </tr>\n",
       "    <tr>\n",
       "      <th>1</th>\n",
       "      <td>Alabama</td>\n",
       "      <td>0</td>\n",
       "      <td>24741</td>\n",
       "      <td>25100</td>\n",
       "      <td>27614</td>\n",
       "      <td>25635</td>\n",
       "      <td>24315</td>\n",
       "      <td>24103</td>\n",
       "      <td>25253</td>\n",
       "      <td>25363</td>\n",
       "      <td>27241</td>\n",
       "      <td>27345</td>\n",
       "      <td>26813</td>\n",
       "      <td>26768</td>\n",
       "      <td>26825</td>\n",
       "      <td>26145</td>\n",
       "      <td>25212</td>\n",
       "      <td>23745</td>\n",
       "    </tr>\n",
       "    <tr>\n",
       "      <th>2</th>\n",
       "      <td>Alaska</td>\n",
       "      <td>1</td>\n",
       "      <td>4570</td>\n",
       "      <td>4351</td>\n",
       "      <td>4472</td>\n",
       "      <td>4534</td>\n",
       "      <td>4798</td>\n",
       "      <td>5052</td>\n",
       "      <td>5151</td>\n",
       "      <td>4997</td>\n",
       "      <td>5472</td>\n",
       "      <td>5369</td>\n",
       "      <td>6216</td>\n",
       "      <td>6308</td>\n",
       "      <td>5081</td>\n",
       "      <td>6323</td>\n",
       "      <td>5247</td>\n",
       "      <td>4378</td>\n",
       "    </tr>\n",
       "    <tr>\n",
       "      <th>3</th>\n",
       "      <td>Arizona</td>\n",
       "      <td>0</td>\n",
       "      <td>27710</td>\n",
       "      <td>29359</td>\n",
       "      <td>31084</td>\n",
       "      <td>32384</td>\n",
       "      <td>33345</td>\n",
       "      <td>35752</td>\n",
       "      <td>37700</td>\n",
       "      <td>39455</td>\n",
       "      <td>40544</td>\n",
       "      <td>40130</td>\n",
       "      <td>39949</td>\n",
       "      <td>40013</td>\n",
       "      <td>41031</td>\n",
       "      <td>42136</td>\n",
       "      <td>42204</td>\n",
       "      <td>42248</td>\n",
       "    </tr>\n",
       "    <tr>\n",
       "      <th>4</th>\n",
       "      <td>Arkansas</td>\n",
       "      <td>0</td>\n",
       "      <td>11489</td>\n",
       "      <td>11849</td>\n",
       "      <td>12068</td>\n",
       "      <td>12577</td>\n",
       "      <td>12455</td>\n",
       "      <td>12854</td>\n",
       "      <td>13275</td>\n",
       "      <td>13135</td>\n",
       "      <td>13338</td>\n",
       "      <td>14192</td>\n",
       "      <td>14090</td>\n",
       "      <td>14043</td>\n",
       "      <td>14295</td>\n",
       "      <td>15250</td>\n",
       "      <td>15784</td>\n",
       "      <td>15833</td>\n",
       "    </tr>\n",
       "  </tbody>\n",
       "</table>\n",
       "</div>"
      ],
      "text/plain": [
       "  jurisdiction  includes_jails    2001    2002    2003    2004    2005  \\\n",
       "0      Federal               0  149852  158216  168144  177600  186364   \n",
       "1      Alabama               0   24741   25100   27614   25635   24315   \n",
       "2       Alaska               1    4570    4351    4472    4534    4798   \n",
       "3      Arizona               0   27710   29359   31084   32384   33345   \n",
       "4     Arkansas               0   11489   11849   12068   12577   12455   \n",
       "\n",
       "     2006    2007    2008    2009    2010    2011    2012    2013    2014  \\\n",
       "0  190844  197285  198414  205087  206968  214774  216915  214989  209561   \n",
       "1   24103   25253   25363   27241   27345   26813   26768   26825   26145   \n",
       "2    5052    5151    4997    5472    5369    6216    6308    5081    6323   \n",
       "3   35752   37700   39455   40544   40130   39949   40013   41031   42136   \n",
       "4   12854   13275   13135   13338   14192   14090   14043   14295   15250   \n",
       "\n",
       "     2015    2016  \n",
       "0  195622  188311  \n",
       "1   25212   23745  \n",
       "2    5247    4378  \n",
       "3   42204   42248  \n",
       "4   15784   15833  "
      ]
     },
     "execution_count": 218,
     "metadata": {},
     "output_type": "execute_result"
    }
   ],
   "source": [
    "# Remove commas from data and convert strings into integers\n",
    "\n",
    "cols_to_remove_commas = df1.columns[2:]\n",
    "df1[cols_to_remove_commas] = df1[cols_to_remove_commas].replace({',':''}, regex=True).astype(int)\n",
    "df1.head()"
   ]
  },
  {
   "cell_type": "code",
   "execution_count": 219,
   "metadata": {},
   "outputs": [
    {
     "data": {
      "text/plain": [
       "numpy.int64"
      ]
     },
     "execution_count": 219,
     "metadata": {},
     "output_type": "execute_result"
    }
   ],
   "source": [
    "type(df1['2001'][3])"
   ]
  },
  {
   "cell_type": "code",
   "execution_count": 220,
   "metadata": {},
   "outputs": [
    {
     "data": {
      "text/plain": [
       "includes_jails        0.117647\n",
       "2001              26074.627451\n",
       "2002              26811.000000\n",
       "2003              27335.588235\n",
       "2004              27878.745098\n",
       "2005              28381.078431\n",
       "2006              29183.921569\n",
       "2007              29674.313725\n",
       "2008              29861.823529\n",
       "2009              29895.098039\n",
       "2010              29831.627451\n",
       "2011              29509.529412\n",
       "2012              29096.333333\n",
       "2013              29122.862745\n",
       "2014              29005.882353\n",
       "2015              28249.450980\n",
       "2016              27784.647059\n",
       "dtype: float64"
      ]
     },
     "execution_count": 220,
     "metadata": {},
     "output_type": "execute_result"
    }
   ],
   "source": [
    "df1.mean()"
   ]
  },
  {
   "cell_type": "code",
   "execution_count": 221,
   "metadata": {},
   "outputs": [],
   "source": [
    "list_2012 = df1[\"2012\"].values\n",
    "list_2013 = df1[\"2013\"].values\n",
    "list_2014 = df1[\"2014\"].values\n",
    "list_2015 = df1[\"2015\"].values\n",
    "list_2016 = df1[\"2016\"].values"
   ]
  },
  {
   "cell_type": "code",
   "execution_count": 222,
   "metadata": {},
   "outputs": [
    {
     "data": {
      "text/plain": [
       "array([216915,  26768,   6308,  40013,  14043, 132935,  20328,  17164,\n",
       "         6730,  99835,  55178,   5297,   7715,  49348,  28034,   8735,\n",
       "         9505,  12998,  18601,   1977,  21810,  11127,  43594,   9421,\n",
       "        15791,  31205,   3095,   4721,  12594,   2568,  23050,   6640,\n",
       "        54058,  37378,   1413,  50872,  24370,  14123,  50228,   3042,\n",
       "        21867,   3596,  19817, 155195,   5309,   2034,  29708,  16919,\n",
       "         5335,  22419,   2187])"
      ]
     },
     "execution_count": 222,
     "metadata": {},
     "output_type": "execute_result"
    }
   ],
   "source": [
    "list_2012"
   ]
  },
  {
   "cell_type": "code",
   "execution_count": 223,
   "metadata": {
    "scrolled": true
   },
   "outputs": [
    {
     "data": {
      "text/plain": [
       "<matplotlib.axes._subplots.AxesSubplot at 0x1c235a0f60>"
      ]
     },
     "execution_count": 223,
     "metadata": {},
     "output_type": "execute_result"
    },
    {
     "data": {
      "image/png": "[encoded data removed]",
      "text/plain": [
       "<Figure size 864x720 with 1 Axes>"
      ]
     },
     "metadata": {},
     "output_type": "display_data"
    }
   ],
   "source": [
    "# Draw a plot showing overlapping of distribution means and sds for incpection\n",
    "\n",
    "sns.set(color_codes=True)\n",
    "sns.set(rc={'figure.figsize':(12,10)})\n",
    "sns.distplot(list_2012) # Blue distribution\n",
    "#sns.distplot(list_2013) # Orange distribution\n",
    "#sns.distplot(list_2014) # Green distribution\n",
    "#sns.distplot(list_2015) # Red distribution\n",
    "sns.distplot(list_2016) # Orange distribution (with only 2012) # Purple distribution (with all)"
   ]
  },
  {
   "cell_type": "markdown",
   "metadata": {},
   "source": [
    "#### Looking at the distributions from 2012 and 2016, they look vey similar."
   ]
  },
  {
   "cell_type": "code",
   "execution_count": 224,
   "metadata": {
    "scrolled": true
   },
   "outputs": [
    {
     "name": "stdout",
     "output_type": "stream",
     "text": [
      "The mean prison population in the U.S. in 2012 was: 29096.333333333332. The standard deviation of the prison population in the U.S. in 2012 was: 40435.444287070844.\n"
     ]
    }
   ],
   "source": [
    "print('The mean prison population in the U.S. in 2012 was: {}. The standard deviation of the prison population in the U.S. in 2012 was: {}.'.format(list_2012.mean(),list_2012.std()))\n"
   ]
  },
  {
   "cell_type": "code",
   "execution_count": 225,
   "metadata": {},
   "outputs": [
    {
     "name": "stdout",
     "output_type": "stream",
     "text": [
      "The mean prison population in the U.S. in 2016 was: 27784.647058823528. The standard deviation of the prison population in the U.S. in 2016 was: 37389.99103032764.\n"
     ]
    }
   ],
   "source": [
    "print('The mean prison population in the U.S. in 2016 was: {}. The standard deviation of the prison population in the U.S. in 2016 was: {}.'.format(list_2016.mean(),list_2016.std()))\n"
   ]
  },
  {
   "cell_type": "markdown",
   "metadata": {},
   "source": [
    "### Step 3.3: Calculating & Visualizing the t-value and p-value"
   ]
  },
  {
   "cell_type": "markdown",
   "metadata": {},
   "source": [
    "#### We will use a paired t-test because we are looking at the same sample (individual States Prison Populations (+ Federal Prison Population)) over time"
   ]
  },
  {
   "cell_type": "code",
   "execution_count": 226,
   "metadata": {},
   "outputs": [
    {
     "name": "stdout",
     "output_type": "stream",
     "text": [
      "The t-value is: 2.1946365203688156.  The p-value is: 0.032862108959372936\n"
     ]
    }
   ],
   "source": [
    "# Paired T-Test\n",
    "\n",
    "t_stat, p_value = stats.ttest_rel(list_2012, list_2016) \n",
    "print('The t-value is: {}.  The p-value is: {}'.format(t_stat, p_value))"
   ]
  },
  {
   "cell_type": "code",
   "execution_count": 227,
   "metadata": {},
   "outputs": [
    {
     "data": {
      "image/png": "[encoded data removed]",
      "text/plain": [
       "<Figure size 720x720 with 1 Axes>"
      ]
     },
     "metadata": {},
     "output_type": "display_data"
    }
   ],
   "source": [
    "#Visulize t and p-value\n",
    "\n",
    "fig = plt.figure(figsize=(10,10))\n",
    "ax = fig.gca()\n",
    "\n",
    "xs = np.linspace(-4, 4, 500)\n",
    "ys= stats.t.pdf(xs, 51+51-2, 0, 1)\n",
    "    \n",
    "ax.plot(xs, ys, linewidth=4, color='blue')\n",
    "    \n",
    "ax.axvline(t_stat, color = 'red', linestyle='--', lw=5)\n",
    "ax.axvline(-t_stat, color = 'red', linestyle='--', lw=5)\n",
    "    \n",
    "plt.show()"
   ]
  },
  {
   "cell_type": "markdown",
   "metadata": {},
   "source": [
    "## Step 4: Determine the Critical or p-value"
   ]
  },
  {
   "cell_type": "markdown",
   "metadata": {},
   "source": [
    "### Step 4.1: Determine t-critical"
   ]
  },
  {
   "cell_type": "markdown",
   "metadata": {},
   "source": [
    "Our degrees of freedom for this test will be:\n",
    "    df = number of samples in 'list_2012' + number of samples in 'list_2016' - 2"
   ]
  },
  {
   "cell_type": "code",
   "execution_count": 228,
   "metadata": {},
   "outputs": [
    {
     "data": {
      "text/plain": [
       "100"
      ]
     },
     "execution_count": 228,
     "metadata": {},
     "output_type": "execute_result"
    }
   ],
   "source": [
    "# Calculate degrees of freedom\n",
    "df = len(list_2012) + len(list_2016) - 2\n",
    "df"
   ]
  },
  {
   "cell_type": "code",
   "execution_count": 229,
   "metadata": {},
   "outputs": [
    {
     "data": {
      "text/plain": [
       "1.984"
      ]
     },
     "execution_count": 229,
     "metadata": {},
     "output_type": "execute_result"
    }
   ],
   "source": [
    "# Calculate critical t value for the upper bound\n",
    "\n",
    "upper_t_critical = np.round(stats.t.ppf(1 - 0.025, df=100),3)\n",
    "upper_t_critical"
   ]
  },
  {
   "cell_type": "code",
   "execution_count": 230,
   "metadata": {},
   "outputs": [
    {
     "data": {
      "text/plain": [
       "-1.984"
      ]
     },
     "execution_count": 230,
     "metadata": {},
     "output_type": "execute_result"
    }
   ],
   "source": [
    "# Calculate critical t value for the lower bound\n",
    "\n",
    "upper_t_critical = np.round(stats.t.ppf(1 - 0.975, df=100),3)\n",
    "upper_t_critical"
   ]
  },
  {
   "cell_type": "markdown",
   "metadata": {},
   "source": [
    "### Step 4.2: Determine p-value"
   ]
  },
  {
   "cell_type": "markdown",
   "metadata": {},
   "source": [
    "We saw above when we ran 'stats.ttest_rel(list_2012, list_2016)' above, that our t-value was 2.1946365203688156 and our p-value was 0.032862108959372936"
   ]
  },
  {
   "cell_type": "code",
   "execution_count": 231,
   "metadata": {},
   "outputs": [
    {
     "data": {
      "text/plain": [
       "0.032862108959372936"
      ]
     },
     "execution_count": 231,
     "metadata": {},
     "output_type": "execute_result"
    }
   ],
   "source": [
    "p_value"
   ]
  },
  {
   "cell_type": "markdown",
   "metadata": {},
   "source": [
    "## Step 5: Compare t-value & critical t-value to Reject or Fail to Reject the Null Hypothesis"
   ]
  },
  {
   "cell_type": "markdown",
   "metadata": {},
   "source": [
    "### Step 5.1 Visually Compare the calculate t-statistic and the t-critical value"
   ]
  },
  {
   "cell_type": "code",
   "execution_count": 232,
   "metadata": {},
   "outputs": [
    {
     "data": {
      "image/png": "[encoded data removed]",
      "text/plain": [
       "<Figure size 576x360 with 1 Axes>"
      ]
     },
     "metadata": {},
     "output_type": "display_data"
    }
   ],
   "source": [
    "xs = np.linspace(-5, 5, 200)\n",
    "ys = stats.t.pdf(xs, df, 0, 1)\n",
    "\n",
    "fig = plt.figure(figsize=(8,5))\n",
    "\n",
    "ax = fig.gca()\n",
    "\n",
    "ax.plot(xs, ys, linewidth=3, color='darkblue')\n",
    "\n",
    "ax.axvline(t_stat, color='red', linestyle='--', lw=5,label='t-statistic')\n",
    "ax.axvline(-t_stat, color='red', linestyle='--', lw=5)\n",
    "\n",
    "ax.axvline(t_critical,color='green',linestyle='--',lw=4,label='critical t-value')\n",
    "ax.axvline(-t_critical,color='green',linestyle='--',lw=4)\n",
    "\n",
    "ax.fill_betweenx(ys,xs,t_critical,where = xs > t_critical, color = 'purple')\n",
    "ax.fill_betweenx(ys,xs,-t_critical,where = xs < -t_critical, color = 'purple')\n",
    "\n",
    "ax.legend()\n",
    "plt.show()"
   ]
  },
  {
   "cell_type": "markdown",
   "metadata": {},
   "source": [
    "Visually we can see that our calculated t-statistic is more extreme on both sides than the t-critical value.  This would tell us that we should reject our null hypothesis."
   ]
  },
  {
   "cell_type": "markdown",
   "metadata": {},
   "source": [
    "### Step 5.2 Numerically Compare the calculate t-statistic and the t-critical value"
   ]
  },
  {
   "cell_type": "code",
   "execution_count": 233,
   "metadata": {},
   "outputs": [
    {
     "name": "stdout",
     "output_type": "stream",
     "text": [
      "We reject our null hypothesis since our calculated t-statistic is 2.1946365203688156, which is greater than the t-critical value, 1.66.\n"
     ]
    }
   ],
   "source": [
    "if (t_stat > t_critical) & (-t_stat < - t_critical):\n",
    "    print('We reject our null hypothesis since our calculated t-statistic is {}, which is greater than the t-critical value, {}.'.format(t_stat, t_critical))\n",
    "if (t_stat < t_critical) & (-t_stat > - t_critical):\n",
    "    print('We fail to reject our null hypothesis since our calculated t-statistic is {}, less than the t-critical value, {}.'.format(t_stat, t_critical))"
   ]
  },
  {
   "cell_type": "markdown",
   "metadata": {},
   "source": [
    "### Step 5.3: Confirm our p-value is less than our alpha value:"
   ]
  },
  {
   "cell_type": "code",
   "execution_count": 236,
   "metadata": {},
   "outputs": [
    {
     "name": "stdout",
     "output_type": "stream",
     "text": [
      "Since our p-value is less than our alpha value we will reject the null hypothesis\n"
     ]
    }
   ],
   "source": [
    "if(p_value < alpha):\n",
    "    print('Since our p-value is less than our alpha value we will reject the null hypothesis')\n",
    "if(p_value > alpha):\n",
    "    print('Since our p-value is greater than our alpha value we fail to reject the null hypothesis')"
   ]
  },
  {
   "cell_type": "markdown",
   "metadata": {},
   "source": [
    "When we visually compare our t-critical value and calculated t-value and numerically compare our t-critical value and calculated t-value, we see that our calculated t-value is more extreme on both sides than our t-critical value.  We also have a p-value that is less than our alpha value, showing us that these results are statistically significant.  We can reject the null hypothesis, the mean prison population has not changed significantly from 2012 to 2016."
   ]
  },
  {
   "cell_type": "markdown",
   "metadata": {},
   "source": [
    "The mean prison population per state in the United States went from 29096.333333333332 in 2012 to 27784.647058823528 in 2016.  Since this decrease is significant and may make us wonder it went down, is there less crime, are we arresting less people?  These are questions to consider further."
   ]
  }
 ],
 "metadata": {
  "kernelspec": {
   "display_name": "Python 3",
   "language": "python",
   "name": "python3"
  },
  "language_info": {
   "codemirror_mode": {
    "name": "ipython",
    "version": 3
   },
   "file_extension": ".py",
   "mimetype": "text/x-python",
   "name": "python",
   "nbconvert_exporter": "python",
   "pygments_lexer": "ipython3",
   "version": "3.7.3"
  }
 },
 "nbformat": 4,
 "nbformat_minor": 2
}
