{
 "cells": [
  {
   "cell_type": "markdown",
   "metadata": {},
   "source": [
    "# Question 1: We are looking to see if the mean prison population has changed over time, from 2012 to 2016."
   ]
  },
  {
   "cell_type": "markdown",
   "metadata": {},
   "source": [
    "## Step 1: Set up null and alternative hypotheses"
   ]
  },
  {
   "cell_type": "markdown",
   "metadata": {},
   "source": [
    "\n",
    "Ho: The mean prison population has not changed significantly from 2012 to 2016\n",
    "\n",
    "Ha: The mean prison population has significanlty changed from 2012 to 2016\n"
   ]
  },
  {
   "cell_type": "markdown",
   "metadata": {},
   "source": [
    "## Step 2: Choose a significance level"
   ]
  },
  {
   "cell_type": "code",
   "execution_count": null,
   "metadata": {},
   "outputs": [],
   "source": [
    "alpha = 0.05"
   ]
  },
  {
   "cell_type": "markdown",
   "metadata": {},
   "source": [
    "## Step 3: Calculate the test statistic"
   ]
  },
  {
   "cell_type": "markdown",
   "metadata": {},
   "source": [
    "### Step 3.1: Import Necessary Libraries"
   ]
  },
  {
   "cell_type": "code",
   "execution_count": null,
   "metadata": {},
   "outputs": [],
   "source": [
    "# Import Pandas Library\n",
    "import pandas as pd\n",
    "\n",
    "# Import Seaborn\n",
    "import seaborn as sns\n",
    "sns.set_style('whitegrid')\n",
    "\n",
    "# Import Stats\n",
    "from scipy import stats\n",
    "\n",
    "# Import Math\n",
    "import math\n",
    "\n",
    "# Import matplotlib\n",
    "import matplotlib.pyplot as plt\n",
    "%matplotlib inline\n",
    "\n",
    "# Import Numpy\n",
    "import numpy as np"
   ]
  },
  {
   "cell_type": "markdown",
   "metadata": {},
   "source": [
    "### Step 3.2: Load, clean and explore dataset"
   ]
  },
  {
   "cell_type": "code",
   "execution_count": null,
   "metadata": {},
   "outputs": [],
   "source": [
    "# Load in and preview first dataset, 'prison_custody_by_state.csv'\n",
    "# This data includes year-end prison custody totals by state as reported by the Bureau of \n",
    "# Justice Statistics' National Prisoner Statistics Program. Federal row reflects Bureau of Prison custody totals.\n",
    "\n",
    "df1 = pd.read_csv('prison_custody_by_state.csv')\n",
    "df1.head()"
   ]
  },
  {
   "cell_type": "code",
   "execution_count": null,
   "metadata": {},
   "outputs": [],
   "source": [
    "# Check out datatypes\n",
    "\n",
    "df1.dtypes"
   ]
  },
  {
   "cell_type": "code",
   "execution_count": null,
   "metadata": {},
   "outputs": [],
   "source": [
    "# Remove commas from data and convert strings into integers\n",
    "\n",
    "cols_to_remove_commas = df1.columns[2:]\n",
    "df1[cols_to_remove_commas] = df1[cols_to_remove_commas].replace({',':''}, regex=True).astype(int)\n",
    "df1.head()"
   ]
  },
  {
   "cell_type": "code",
   "execution_count": null,
   "metadata": {},
   "outputs": [],
   "source": [
    "type(df1['2001'][3])"
   ]
  },
  {
   "cell_type": "code",
   "execution_count": null,
   "metadata": {},
   "outputs": [],
   "source": [
    "df1.mean()"
   ]
  },
  {
   "cell_type": "code",
   "execution_count": null,
   "metadata": {},
   "outputs": [],
   "source": [
    "list_2012 = df1[\"2012\"].values\n",
    "list_2013 = df1[\"2013\"].values\n",
    "list_2014 = df1[\"2014\"].values\n",
    "list_2015 = df1[\"2015\"].values\n",
    "list_2016 = df1[\"2016\"].values"
   ]
  },
  {
   "cell_type": "code",
   "execution_count": null,
   "metadata": {},
   "outputs": [],
   "source": [
    "list_2012"
   ]
  },
  {
   "cell_type": "code",
   "execution_count": null,
   "metadata": {
    "scrolled": true
   },
   "outputs": [],
   "source": [
    "# Draw a plot showing overlapping of distribution means and sds for incpection\n",
    "\n",
    "sns.set(color_codes=True)\n",
    "sns.set(rc={'figure.figsize':(12,10)})\n",
    "sns.distplot(list_2012) # Blue distribution\n",
    "#sns.distplot(list_2013) # Orange distribution\n",
    "#sns.distplot(list_2014) # Green distribution\n",
    "#sns.distplot(list_2015) # Red distribution\n",
    "sns.distplot(list_2016) # Orange distribution (with only 2012) # Purple distribution (with all)"
   ]
  },
  {
   "cell_type": "markdown",
   "metadata": {},
   "source": [
    "#### Looking at the distributions from 2012 and 2016, they look vey similar."
   ]
  },
  {
   "cell_type": "code",
   "execution_count": null,
   "metadata": {
    "scrolled": true
   },
   "outputs": [],
   "source": [
    "print('The mean prison population in the U.S. in 2012 was: {}. The standard deviation of the prison population in the U.S. in 2012 was: {}.'.format(list_2012.mean(),list_2012.std()))\n"
   ]
  },
  {
   "cell_type": "code",
   "execution_count": null,
   "metadata": {},
   "outputs": [],
   "source": [
    "print('The mean prison population in the U.S. in 2016 was: {}. The standard deviation of the prison population in the U.S. in 2016 was: {}.'.format(list_2016.mean(),list_2016.std()))\n"
   ]
  },
  {
   "cell_type": "markdown",
   "metadata": {},
   "source": [
    "### Step 3.3: Calculating & Visualizing the t-value and p-value"
   ]
  },
  {
   "cell_type": "markdown",
   "metadata": {},
   "source": [
    "#### We will use a paired t-test because we are looking at the same sample (individual States Prison Populations (+ Federal Prison Population)) over time"
   ]
  },
  {
   "cell_type": "code",
   "execution_count": null,
   "metadata": {},
   "outputs": [],
   "source": [
    "# Paired T-Test\n",
    "\n",
    "t_stat, p_value = stats.ttest_rel(list_2012, list_2016) \n",
    "print('The t-value is: {}.  The p-value is: {}'.format(t_stat, p_value))"
   ]
  },
  {
   "cell_type": "code",
   "execution_count": null,
   "metadata": {},
   "outputs": [],
   "source": [
    "#Visulize t and p-value\n",
    "\n",
    "fig = plt.figure(figsize=(10,10))\n",
    "ax = fig.gca()\n",
    "\n",
    "xs = np.linspace(-4, 4, 500)\n",
    "ys= stats.t.pdf(xs, 51+51-2, 0, 1)\n",
    "    \n",
    "ax.plot(xs, ys, linewidth=4, color='blue')\n",
    "    \n",
    "ax.axvline(t_stat, color = 'red', linestyle='--', lw=5)\n",
    "ax.axvline(-t_stat, color = 'red', linestyle='--', lw=5)\n",
    "    \n",
    "plt.show()"
   ]
  },
  {
   "cell_type": "markdown",
   "metadata": {},
   "source": [
    "## Step 4: Determine the Critical or p-value"
   ]
  },
  {
   "cell_type": "markdown",
   "metadata": {},
   "source": [
    "### Step 4.1: Determine t-critical"
   ]
  },
  {
   "cell_type": "markdown",
   "metadata": {},
   "source": [
    "Our degrees of freedom for this test will be:\n",
    "    df = number of samples in 'list_2012' + number of samples in 'list_2016' - 2"
   ]
  },
  {
   "cell_type": "code",
   "execution_count": null,
   "metadata": {},
   "outputs": [],
   "source": [
    "# Calculate degrees of freedom\n",
    "df = len(list_2012) + len(list_2016) - 2\n",
    "df"
   ]
  },
  {
   "cell_type": "code",
   "execution_count": null,
   "metadata": {},
   "outputs": [],
   "source": [
    "# Calculate critical t value for the upper bound\n",
    "\n",
    "upper_t_critical = np.round(stats.t.ppf(1 - 0.025, df=100),3)\n",
    "upper_t_critical"
   ]
  },
  {
   "cell_type": "code",
   "execution_count": null,
   "metadata": {},
   "outputs": [],
   "source": [
    "# Calculate critical t value for the lower bound\n",
    "\n",
    "upper_t_critical = np.round(stats.t.ppf(1 - 0.975, df=100),3)\n",
    "upper_t_critical"
   ]
  },
  {
   "cell_type": "markdown",
   "metadata": {},
   "source": [
    "### Step 4.2: Determine p-value"
   ]
  },
  {
   "cell_type": "markdown",
   "metadata": {},
   "source": [
    "We saw above when we ran 'stats.ttest_rel(list_2012, list_2016)' above, that our t-value was 2.1946365203688156 and our p-value was 0.032862108959372936"
   ]
  },
  {
   "cell_type": "code",
   "execution_count": null,
   "metadata": {},
   "outputs": [],
   "source": [
    "p_value"
   ]
  },
  {
   "cell_type": "markdown",
   "metadata": {},
   "source": [
    "## Step 5: Compare t-value & critical t-value to Reject or Fail to Reject the Null Hypothesis"
   ]
  },
  {
   "cell_type": "markdown",
   "metadata": {},
   "source": [
    "### Step 5.1 Visually Compare the calculate t-statistic and the t-critical value"
   ]
  },
  {
   "cell_type": "code",
   "execution_count": null,
   "metadata": {},
   "outputs": [],
   "source": [
    "xs = np.linspace(-5, 5, 200)\n",
    "ys = stats.t.pdf(xs, df, 0, 1)\n",
    "\n",
    "fig = plt.figure(figsize=(8,5))\n",
    "\n",
    "ax = fig.gca()\n",
    "\n",
    "ax.plot(xs, ys, linewidth=3, color='darkblue')\n",
    "\n",
    "ax.axvline(t_stat, color='red', linestyle='--', lw=5,label='t-statistic')\n",
    "ax.axvline(-t_stat, color='red', linestyle='--', lw=5)\n",
    "\n",
    "ax.axvline(t_critical,color='green',linestyle='--',lw=4,label='critical t-value')\n",
    "ax.axvline(-t_critical,color='green',linestyle='--',lw=4)\n",
    "\n",
    "ax.fill_betweenx(ys,xs,t_critical,where = xs > t_critical, color = 'purple')\n",
    "ax.fill_betweenx(ys,xs,-t_critical,where = xs < -t_critical, color = 'purple')\n",
    "\n",
    "ax.legend()\n",
    "plt.show()"
   ]
  },
  {
   "cell_type": "markdown",
   "metadata": {},
   "source": [
    "Visually we can see that our calculated t-statistic is more extreme on both sides than the t-critical value.  This would tell us that we should reject our null hypothesis."
   ]
  },
  {
   "cell_type": "markdown",
   "metadata": {},
   "source": [
    "### Step 5.2 Numerically Compare the calculate t-statistic and the t-critical value"
   ]
  },
  {
   "cell_type": "code",
   "execution_count": null,
   "metadata": {},
   "outputs": [],
   "source": [
    "if (t_stat > t_critical) & (-t_stat < - t_critical):\n",
    "    print('We reject our null hypothesis since our calculated t-statistic is {}, which is greater than the t-critical value, {}.'.format(t_stat, t_critical))\n",
    "if (t_stat < t_critical) & (-t_stat > - t_critical):\n",
    "    print('We fail to reject our null hypothesis since our calculated t-statistic is {}, less than the t-critical value, {}.'.format(t_stat, t_critical))"
   ]
  },
  {
   "cell_type": "markdown",
   "metadata": {},
   "source": [
    "### Step 5.3: Confirm our p-value is less than our alpha value:"
   ]
  },
  {
   "cell_type": "code",
   "execution_count": null,
   "metadata": {},
   "outputs": [],
   "source": [
    "if(p_value < alpha):\n",
    "    print('Since our p-value is less than our alpha value we will reject the null hypothesis')\n",
    "if(p_value > alpha):\n",
    "    print('Since our p-value is greater than our alpha value we fail to reject the null hypothesis')"
   ]
  },
  {
   "cell_type": "markdown",
   "metadata": {},
   "source": [
    "When we visually compare our t-critical value and calculated t-value and numerically compare our t-critical value and calculated t-value, we see that our calculated t-value is more extreme on both sides than our t-critical value.  We also have a p-value that is less than our alpha value, showing us that these results are statistically significant.  We can reject the null hypothesis, the mean prison population has not changed significantly from 2012 to 2016."
   ]
  }
 ],
 "metadata": {
  "kernelspec": {
   "display_name": "Python 3",
   "language": "python",
   "name": "python3"
  },
  "language_info": {
   "codemirror_mode": {
    "name": "ipython",
    "version": 3
   },
   "file_extension": ".py",
   "mimetype": "text/x-python",
   "name": "python",
   "nbconvert_exporter": "python",
   "pygments_lexer": "ipython3",
   "version": "3.7.3"
  }
 },
 "nbformat": 4,
 "nbformat_minor": 2
}
